{
 "cells": [
  {
   "cell_type": "code",
   "execution_count": 4,
   "metadata": {},
   "outputs": [],
   "source": [
    "from typing import List, Dict\n",
    "from transformers import AutoTokenizer, AutoModelForSeq2SeqLM"
   ]
  },
  {
   "cell_type": "code",
   "execution_count": 5,
   "metadata": {},
   "outputs": [],
   "source": [
    "tokenizer = AutoTokenizer.from_pretrained(\"juierror/flan-t5-text2sql-with-schema-v2\")\n",
    "model = AutoModelForSeq2SeqLM.from_pretrained(\"juierror/flan-t5-text2sql-with-schema-v2\")\n"
   ]
  },
  {
   "cell_type": "code",
   "execution_count": 21,
   "metadata": {},
   "outputs": [
    {
     "name": "stdout",
     "output_type": "stream",
     "text": [
      "SELECT T1.name FROM students AS T1 JOIN enrollments AS T2 ON T1.student_id = T2.student_id WHERE T2.course_id = 'Database Systems' AND T1.birth_year = 2003\n",
      "SELECT t1.name FROM employees AS t1 JOIN work AS t2 ON t1.employee_id = t2.employee_id JOIN company AS t3 ON t2.company_id = t3.company_id WHERE t3.city = 'Oporto' AND t1.age < 30\n",
      "SELECT T1.name FROM employees AS T1 JOIN work AS T2 ON T1.employee_id = T2.employee_id WHERE T2.name = 'Google'\n"
     ]
    }
   ],
   "source": [
    "def get_prompt(tables, question):\n",
    "    prompt = f\"\"\"convert question and table into SQL query. tables: {tables}. question: {question}\"\"\"\n",
    "    return prompt\n",
    "\n",
    "def prepare_input(question: str, tables: Dict[str, List[str]]):\n",
    "    tables = [f\"\"\"{table_name}({\",\".join(tables[table_name])})\"\"\" for table_name in tables]\n",
    "    tables = \", \".join(tables)\n",
    "    prompt = get_prompt(tables, question)\n",
    "    input_ids = tokenizer(prompt, max_length=512, return_tensors=\"pt\").input_ids\n",
    "    return input_ids\n",
    "\n",
    "def inference(question: str, tables: Dict[str, List[str]]) -> str:\n",
    "    input_data = prepare_input(question=question, tables=tables)\n",
    "    input_data = input_data.to(model.device)\n",
    "    outputs = model.generate(inputs=input_data, num_beams=10, top_k=10, max_length=512)\n",
    "    result = tokenizer.decode(token_ids=outputs[0], skip_special_tokens=True)\n",
    "    return result\n",
    "\n",
    "print(inference(\"List all students who are subscrived in the Database Systems and are born in 2003.\",\n",
    "    {'Students': ['student_id', 'name', 'birth_year'], 'Courses': ['course_id', 'name', 'max_enrollments'], 'Enrollments': ['student_id', 'course_id']}\n",
    "    ))\n",
    "\n",
    "print(inference(\"List names of employees who have a salary greater than $1300, work in the city of Oporto and are younger than 30 years.\",\n",
    "    { 'employees': ['employee_id', 'name', 'salary', 'age'], 'company': ['company_id', 'name', 'city'], 'work': ['employee_id', 'company_id']}))\n",
    "\n",
    "print(inference(\"List the names of the employees who work in the company named 'Google'.\",\n",
    "    { 'employees': ['employee_id', 'name', 'salary', 'age'], 'company': ['company_id', 'name', 'city'], 'work': ['employee_id', 'company_id']}))"
   ]
  },
  {
   "cell_type": "code",
   "execution_count": null,
   "metadata": {},
   "outputs": [],
   "source": []
  }
 ],
 "metadata": {
  "kernelspec": {
   "display_name": "bolsa",
   "language": "python",
   "name": "python3"
  },
  "language_info": {
   "codemirror_mode": {
    "name": "ipython",
    "version": 3
   },
   "file_extension": ".py",
   "mimetype": "text/x-python",
   "name": "python",
   "nbconvert_exporter": "python",
   "pygments_lexer": "ipython3",
   "version": "3.10.16"
  }
 },
 "nbformat": 4,
 "nbformat_minor": 2
}
